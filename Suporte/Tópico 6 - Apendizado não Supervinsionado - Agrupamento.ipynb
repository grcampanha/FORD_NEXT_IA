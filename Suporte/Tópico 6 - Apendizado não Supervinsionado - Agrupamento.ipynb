{
 "cells": [
  {
   "cell_type": "markdown",
   "metadata": {},
   "source": [
    "# Tópico 6: Agrupamento e Regras de Associação\n",
    "\n",
    "O Agrupamento ou Clustering faz parte das técnicas de **Aprendizado de Máquina não Supervisionado**, assim como os algoritmos de Regras de Associação (que encontram agrupamento em conjuntos de strings).\n",
    "\n",
    "Ele pode ser aplicado para diferentes problemas que envolvam segmentação/agrupamento de dados.\n",
    "\n",
    "Em geral, o desempenho destes algoritmos é menor do que aqueles obtidos com Classificadores. Entretanto, as técnicas de agrupamento apresentam a vantagem de não precisarem de dados rotulados (label)."
   ]
  },
  {
   "cell_type": "markdown",
   "metadata": {},
   "source": [
    "### Bibliotecas utilizadas"
   ]
  },
  {
   "cell_type": "code",
   "execution_count": 2,
   "metadata": {},
   "outputs": [],
   "source": [
    "import pandas as pd\n",
    "\n",
    "# Plot dos gráficos\n",
    "import matplotlib.pyplot as plt\n",
    "import matplotlib\n",
    "from matplotlib import colors\n",
    "import seaborn as sns\n",
    "import scipy.cluster.hierarchy as sch   # Dendograma\n",
    "\n",
    "\n",
    "# Algoritmos de Agrupamento\n",
    "from sklearn.cluster import KMeans, DBSCAN, AgglomerativeClustering\n",
    "from sklearn.mixture import GaussianMixture\n",
    "\n",
    "# Avaliacao de desemepnho\n",
    "from sklearn.metrics import adjusted_rand_score, silhouette_score"
   ]
  },
  {
   "cell_type": "markdown",
   "metadata": {},
   "source": [
    "## Exemplo 1\n",
    "\n",
    "    \n",
    "### Moons\n",
    "\n",
    "Reinaldo Sanchez-Arias, Assistant Professor of Data Science, Florida Polytechnic University, https://raw.githubusercontent.com/reisanar/datasets/master/moons.csv"
   ]
  },
  {
   "cell_type": "markdown",
   "metadata": {},
   "source": [
    "### Carregando os dados"
   ]
  },
  {
   "cell_type": "code",
   "execution_count": 3,
   "metadata": {},
   "outputs": [],
   "source": [
    "url_bd = 'https://raw.githubusercontent.com/reisanar/datasets/master/moons.csv'\n",
    "moons = pd.read_csv(url_bd)"
   ]
  },
  {
   "cell_type": "code",
   "execution_count": 4,
   "metadata": {},
   "outputs": [
    {
     "data": {
      "text/html": [
       "<div>\n",
       "<style scoped>\n",
       "    .dataframe tbody tr th:only-of-type {\n",
       "        vertical-align: middle;\n",
       "    }\n",
       "\n",
       "    .dataframe tbody tr th {\n",
       "        vertical-align: top;\n",
       "    }\n",
       "\n",
       "    .dataframe thead th {\n",
       "        text-align: right;\n",
       "    }\n",
       "</style>\n",
       "<table border=\"1\" class=\"dataframe\">\n",
       "  <thead>\n",
       "    <tr style=\"text-align: right;\">\n",
       "      <th></th>\n",
       "      <th>X</th>\n",
       "      <th>Y</th>\n",
       "    </tr>\n",
       "  </thead>\n",
       "  <tbody>\n",
       "    <tr>\n",
       "      <th>0</th>\n",
       "      <td>-0.415208</td>\n",
       "      <td>1.035735</td>\n",
       "    </tr>\n",
       "    <tr>\n",
       "      <th>1</th>\n",
       "      <td>0.058781</td>\n",
       "      <td>0.304334</td>\n",
       "    </tr>\n",
       "    <tr>\n",
       "      <th>2</th>\n",
       "      <td>1.109379</td>\n",
       "      <td>-0.509738</td>\n",
       "    </tr>\n",
       "    <tr>\n",
       "      <th>3</th>\n",
       "      <td>1.540948</td>\n",
       "      <td>-0.427550</td>\n",
       "    </tr>\n",
       "    <tr>\n",
       "      <th>4</th>\n",
       "      <td>0.929095</td>\n",
       "      <td>-0.532388</td>\n",
       "    </tr>\n",
       "  </tbody>\n",
       "</table>\n",
       "</div>"
      ],
      "text/plain": [
       "          X         Y\n",
       "0 -0.415208  1.035735\n",
       "1  0.058781  0.304334\n",
       "2  1.109379 -0.509738\n",
       "3  1.540948 -0.427550\n",
       "4  0.929095 -0.532388"
      ]
     },
     "execution_count": 4,
     "metadata": {},
     "output_type": "execute_result"
    }
   ],
   "source": [
    "moons.head()"
   ]
  },
  {
   "cell_type": "code",
   "execution_count": 5,
   "metadata": {},
   "outputs": [
    {
     "data": {
      "text/plain": [
       "<matplotlib.collections.PathCollection at 0x20fcef44160>"
      ]
     },
     "execution_count": 5,
     "metadata": {},
     "output_type": "execute_result"
    },
    {
     "data": {
      "image/png": "[encoded data removed]",
      "text/plain": [
       "<Figure size 432x288 with 1 Axes>"
      ]
     },
     "metadata": {
      "needs_background": "light"
     },
     "output_type": "display_data"
    }
   ],
   "source": [
    "# Gráfico de DISPERSÃO\n",
    "plt.scatter(x=moons['X'], y=moons['Y'])"
   ]
  },
  {
   "cell_type": "markdown",
   "metadata": {},
   "source": [
    "### Criação do Modelos de Agrupamento"
   ]
  },
  {
   "cell_type": "code",
   "execution_count": null,
   "metadata": {},
   "outputs": [],
   "source": [
    "# Modelos de agrupamento\n",
    "rs=42\n",
    "km = KMeans(n_clusters=4, random_state=rs)            # KNN k=4\n",
    "gm = GaussianMixture(n_components=4, random_state=rs) # Gaussian Mixture k=4\n",
    "db = DBSCAN(eps=0.4)"
   ]
  },
  {
   "cell_type": "code",
   "execution_count": null,
   "metadata": {},
   "outputs": [],
   "source": [
    "# aplica o algoritmo e armazena o cluster de cada dado\n",
    "km_c = km.fit_predict(moons)  # \n",
    "gm_c = gm.fit_predict(moons)  # Permite mistura entre grupos (bem parecido com k-means)\n",
    "db_c = db.fit_predict(moons)  # Permite formatos não globulares"
   ]
  },
  {
   "cell_type": "code",
   "execution_count": null,
   "metadata": {},
   "outputs": [],
   "source": [
    "km_c"
   ]
  },
  {
   "cell_type": "code",
   "execution_count": null,
   "metadata": {},
   "outputs": [],
   "source": [
    "db_c"
   ]
  },
  {
   "cell_type": "code",
   "execution_count": null,
   "metadata": {},
   "outputs": [],
   "source": [
    "fig = plt.figure(figsize=(12, 8), dpi=80)\n",
    "plt.subplot(2,2,1)\n",
    "plt.scatter(x=moons['X'], y=moons['Y'])\n",
    "plt.title('Original')\n",
    "plt.subplot(2,2,2)\n",
    "plt.scatter(x=moons['X'], y=moons['Y'], c=km_c)\n",
    "plt.title('KMeans')\n",
    "plt.subplot(2,2,3)\n",
    "plt.scatter(x=moons['X'], y=moons['Y'], c=gm_c)\n",
    "plt.title('GaussianMixture')\n",
    "plt.subplot(2,2,4)\n",
    "plt.scatter(x=moons['X'], y=moons['Y'], c=db_c)\n",
    "plt.title('DBSCAN')\n",
    "plt.subplots_adjust(hspace = 0.35)"
   ]
  },
  {
   "cell_type": "markdown",
   "metadata": {},
   "source": [
    "--------------------------\n",
    "\n",
    "## Exemplo 2 - Grupo de Consumidores\n",
    "\n",
    "Esse conjunto de dados ilustra alguns dados dos consumidores de um shopping. **Será que podemos encontrar grupos de consumidores com os dados acima?**"
   ]
  },
  {
   "cell_type": "code",
   "execution_count": 1,
   "metadata": {},
   "outputs": [
    {
     "ename": "NameError",
     "evalue": "name 'pd' is not defined",
     "output_type": "error",
     "traceback": [
      "\u001b[1;31m---------------------------------------------------------------------------\u001b[0m",
      "\u001b[1;31mNameError\u001b[0m                                 Traceback (most recent call last)",
      "Input \u001b[1;32mIn [1]\u001b[0m, in \u001b[0;36m<module>\u001b[1;34m\u001b[0m\n\u001b[1;32m----> 1\u001b[0m dados \u001b[38;5;241m=\u001b[39m \u001b[43mpd\u001b[49m\u001b[38;5;241m.\u001b[39mread_csv(\u001b[38;5;124m\"\u001b[39m\u001b[38;5;124mmall.csv\u001b[39m\u001b[38;5;124m\"\u001b[39m, sep\u001b[38;5;241m=\u001b[39m\u001b[38;5;124m'\u001b[39m\u001b[38;5;124m,\u001b[39m\u001b[38;5;124m'\u001b[39m)\n",
      "\u001b[1;31mNameError\u001b[0m: name 'pd' is not defined"
     ]
    }
   ],
   "source": [
    "dados = pd.read_csv(\"mall.csv\", sep=',')"
   ]
  },
  {
   "cell_type": "code",
   "execution_count": null,
   "metadata": {},
   "outputs": [],
   "source": [
    "dados.head()"
   ]
  },
  {
   "cell_type": "markdown",
   "metadata": {},
   "source": [
    "### Analisando os dados\n",
    "A seguir vamos analisar os tipos de dados que temos."
   ]
  },
  {
   "cell_type": "code",
   "execution_count": null,
   "metadata": {},
   "outputs": [],
   "source": [
    "dados.info()"
   ]
  },
  {
   "cell_type": "code",
   "execution_count": null,
   "metadata": {},
   "outputs": [],
   "source": [
    "dados.shape"
   ]
  },
  {
   "cell_type": "code",
   "execution_count": null,
   "metadata": {},
   "outputs": [],
   "source": [
    "dados.isnull().sum() # Ver se tem dados nulos (células vazias)"
   ]
  },
  {
   "cell_type": "code",
   "execution_count": null,
   "metadata": {},
   "outputs": [],
   "source": [
    "dados.describe()"
   ]
  },
  {
   "cell_type": "code",
   "execution_count": null,
   "metadata": {},
   "outputs": [],
   "source": [
    "dados.hist(figsize=(12,12))"
   ]
  },
  {
   "cell_type": "code",
   "execution_count": null,
   "metadata": {},
   "outputs": [],
   "source": [
    "plt.figure(figsize=(6,4))\n",
    "sns.heatmap(dados[['Age','Annual Income (k$)','Spending Score (1-100)']].corr(method = 'pearson'),\n",
    "            annot=True, fmt=\".1f\");"
   ]
  },
  {
   "cell_type": "code",
   "execution_count": null,
   "metadata": {},
   "outputs": [],
   "source": [
    "dados['Gender'].value_counts()"
   ]
  },
  {
   "cell_type": "markdown",
   "metadata": {},
   "source": [
    "Boa proporção entre os generos que temos disponíveis em nossos dados.\n",
    "\n",
    "Vamos fazer um gráfico completo com todos os dados para checarmos possíveis agrupamentos que podem ser realizados."
   ]
  },
  {
   "cell_type": "code",
   "execution_count": null,
   "metadata": {},
   "outputs": [],
   "source": [
    "sns.pairplot(dados)\n",
    "plt.show()"
   ]
  },
  {
   "cell_type": "markdown",
   "metadata": {},
   "source": [
    "Aparentemente o Annual Income e o Spending Score permitem alguns agrupamentos dos nossos dados. \n",
    "\n",
    "Podemos trabalhar com eles."
   ]
  },
  {
   "cell_type": "markdown",
   "metadata": {},
   "source": [
    "### Criando os agrupamentos\n",
    "Vamos criar agrupamentos com diferentes metodologias:\n",
    "\n",
    "### 1 - K-Means"
   ]
  },
  {
   "cell_type": "code",
   "execution_count": null,
   "metadata": {},
   "outputs": [],
   "source": [
    "# Definindo o modelo de clusterizacao. K-MEANS com 6 clusters\n",
    "kmeans = KMeans(n_clusters=6,random_state=0)\n",
    "\n",
    "#Implementando o K-Means nos dados:\n",
    "kmeans.fit(dados[['Annual Income (k$)','Spending Score (1-100)']])\n",
    "\n",
    "#Salvando os centroides de cada cluster\n",
    "centroides = kmeans.cluster_centers_\n",
    "\n",
    "#Salvando os labels dos clusters para cada exemplo\n",
    "kmeans_labels = kmeans.predict(dados[['Annual Income (k$)','Spending Score (1-100)']])"
   ]
  },
  {
   "cell_type": "markdown",
   "metadata": {},
   "source": [
    "Vamos analisar a nossa previsao e os centroides:"
   ]
  },
  {
   "cell_type": "code",
   "execution_count": null,
   "metadata": {},
   "outputs": [],
   "source": [
    "pd.Series(kmeans_labels).value_counts()"
   ]
  },
  {
   "cell_type": "code",
   "execution_count": null,
   "metadata": {},
   "outputs": [],
   "source": [
    "centroides"
   ]
  },
  {
   "cell_type": "code",
   "execution_count": null,
   "metadata": {},
   "outputs": [],
   "source": [
    "# plotando os dados identificando com os seus clusters\n",
    "plt.scatter(dados[['Annual Income (k$)']],dados[['Spending Score (1-100)']], c=kmeans_labels, alpha=0.5, cmap='rainbow')\n",
    "plt.xlabel('Salario Anual')\n",
    "plt.ylabel('Pontuação de gastos')\n",
    "# plotando os centroides\n",
    "plt.scatter(centroides[:, 0], centroides[:, 1], c='black', marker='X', s=200, alpha=0.5)\n",
    "plt.rcParams['figure.figsize'] = (15, 10)\n",
    "plt.show()"
   ]
  },
  {
   "cell_type": "markdown",
   "metadata": {},
   "source": [
    "Escolhendo a quantidade de grupos usando o método do \"cotovelo\":"
   ]
  },
  {
   "cell_type": "code",
   "execution_count": null,
   "metadata": {},
   "outputs": [],
   "source": [
    "# Lista com a quantidade de clusters que iremos testar\n",
    "k = list(range(1, 10))\n",
    "print(k)"
   ]
  },
  {
   "cell_type": "code",
   "execution_count": null,
   "metadata": {},
   "outputs": [],
   "source": [
    "# Armazena o SSE (soma dos erros quadraticos) para cada quantidade de k\n",
    "sse = []\n",
    "\n",
    "# Roda o K-means para cada k fornecido\n",
    "for i in k:\n",
    "    kmeans = KMeans(n_clusters=i, random_state=0)\n",
    "    kmeans.fit(dados[['Annual Income (k$)','Spending Score (1-100)']])\n",
    "    sse.append(kmeans.inertia_)\n",
    "\n",
    "plt.rcParams['figure.figsize'] = (10, 5)\n",
    "# Plota o gráfico com a soma dos erros quadraticos\n",
    "plt.plot(k, sse, '-o')\n",
    "plt.xlabel(r'Número de clusters')\n",
    "plt.ylabel('Inércia')\n",
    "plt.show()"
   ]
  },
  {
   "cell_type": "markdown",
   "metadata": {},
   "source": [
    "Podemos notar que após 3 ou 5 clusters a soma do erro quadratico tem uma redução na forma com a qual a função está decrescendo. Assim podemos adotar 5 clusters. Checando os resultados para 5 clusters:"
   ]
  },
  {
   "cell_type": "code",
   "execution_count": null,
   "metadata": {},
   "outputs": [],
   "source": [
    "# Definindo o modelo de clusterizacao. K-MEANS com 6 clusters\n",
    "kmeans = KMeans(n_clusters=5,random_state=0)\n",
    "\n",
    "#Implementando o K-Means nos dados:\n",
    "kmeans.fit(dados[['Annual Income (k$)','Spending Score (1-100)']])\n",
    "\n",
    "#Salvando os centroides de cada cluster\n",
    "centroides = kmeans.cluster_centers_\n",
    "\n",
    "#Salvando os labels dos clusters para cada exemplo\n",
    "kmeans_labels = kmeans.predict(dados[['Annual Income (k$)','Spending Score (1-100)']])"
   ]
  },
  {
   "cell_type": "code",
   "execution_count": null,
   "metadata": {},
   "outputs": [],
   "source": [
    "# plotando os dados identificando com os seus clusters\n",
    "plt.scatter(dados[['Annual Income (k$)']],dados[['Spending Score (1-100)']], c=kmeans_labels, alpha=0.5, cmap='rainbow')\n",
    "plt.xlabel('Salario Anual')\n",
    "plt.ylabel('Pontuação de gastos')\n",
    "# plotando os centroides\n",
    "plt.scatter(centroides[:, 0], centroides[:, 1], c='black', marker='X', s=200, alpha=0.5)\n",
    "plt.rcParams['figure.figsize'] = (15, 10)\n",
    "plt.show()"
   ]
  },
  {
   "cell_type": "code",
   "execution_count": null,
   "metadata": {},
   "outputs": [],
   "source": [
    "dados['grupos kmeas'] = kmeans_labels"
   ]
  },
  {
   "cell_type": "code",
   "execution_count": null,
   "metadata": {},
   "outputs": [],
   "source": [
    "dados_2 = dados[dados['grupos kmeas'] == 2]"
   ]
  },
  {
   "cell_type": "code",
   "execution_count": null,
   "metadata": {},
   "outputs": [],
   "source": [
    "plt.figure(figsize=(6,4))\n",
    "sns.heatmap(dados_2.groupby('grupos kmeas').corr(method = 'pearson'),\n",
    "            annot=True, fmt=\".1f\");"
   ]
  },
  {
   "cell_type": "markdown",
   "metadata": {},
   "source": [
    "### 2 - DBSCAN"
   ]
  },
  {
   "cell_type": "code",
   "execution_count": null,
   "metadata": {},
   "outputs": [],
   "source": [
    "#Criando o modelo:\n",
    "dbscan = DBSCAN(eps=10, min_samples=8)\n",
    "#Ajustando aos dados\n",
    "dbscan.fit(dados[['Annual Income (k$)','Spending Score (1-100)']])\n",
    "\n",
    "dbscan_labels = dbscan.labels_\n",
    "dbscan_labels"
   ]
  },
  {
   "cell_type": "markdown",
   "metadata": {},
   "source": [
    "Labels com -1 foram classificados como outliers"
   ]
  },
  {
   "cell_type": "code",
   "execution_count": null,
   "metadata": {},
   "outputs": [],
   "source": [
    "#Plotando o grafico:\n",
    "plt.scatter(dados[['Annual Income (k$)']],dados[['Spending Score (1-100)']], c=dbscan_labels, alpha=0.5, cmap='rainbow')\n",
    "plt.xlabel('Annual Income (k$)')\n",
    "plt.ylabel('Spending Score (1-100)')\n",
    "plt.show()"
   ]
  },
  {
   "cell_type": "code",
   "execution_count": null,
   "metadata": {},
   "outputs": [],
   "source": [
    "#Plotando o grafico sem os outliers:\n",
    "#mascara para outlier\n",
    "mascara = dbscan_labels>=0\n",
    "\n",
    "#plotando o gráfico\n",
    "plt.scatter(dados[['Annual Income (k$)']][mascara],dados[['Spending Score (1-100)']][mascara], c=dbscan_labels[mascara], alpha=0.5, cmap='rainbow')\n",
    "plt.xlabel('Annual Income (k$)')\n",
    "plt.ylabel('Spending Score (1-100)')\n",
    "plt.show()\n"
   ]
  },
  {
   "cell_type": "markdown",
   "metadata": {},
   "source": [
    "Checando a quantidade de valores que foram classificados como Outliers:"
   ]
  },
  {
   "cell_type": "code",
   "execution_count": null,
   "metadata": {},
   "outputs": [],
   "source": [
    "list(mascara).count(False)"
   ]
  },
  {
   "cell_type": "markdown",
   "metadata": {},
   "source": [
    "### 3 - Agrupamento Hierárquico"
   ]
  },
  {
   "cell_type": "code",
   "execution_count": null,
   "metadata": {},
   "outputs": [],
   "source": [
    "# Criando o modelo\n",
    "# linkage = ‘ward’ minimizes the variance of the clusters being merged.\n",
    "model = AgglomerativeClustering(n_clusters=5,linkage='ward')\n",
    "\n",
    "model.fit(dados[['Annual Income (k$)','Spending Score (1-100)']])\n",
    "hierarquico_labels = model.labels_\n",
    "hierarquico_labels"
   ]
  },
  {
   "cell_type": "code",
   "execution_count": null,
   "metadata": {},
   "outputs": [],
   "source": [
    "# plotando os dados identificando com os seus clusters\n",
    "plt.scatter(dados[['Annual Income (k$)']],dados[['Spending Score (1-100)']], c=hierarquico_labels, alpha=0.5, cmap='rainbow')\n",
    "plt.xlabel('Salario Anual')\n",
    "plt.ylabel('Pontuação de gastos')\n",
    "# plotando os centroides\n",
    "\n",
    "plt.rcParams['figure.figsize'] = (15, 10)\n",
    "plt.show()"
   ]
  },
  {
   "cell_type": "markdown",
   "metadata": {},
   "source": [
    "Visualizando o dendrograma"
   ]
  },
  {
   "cell_type": "code",
   "execution_count": null,
   "metadata": {},
   "outputs": [],
   "source": [
    "dendrogram = sch.dendrogram(sch.linkage(dados[['Annual Income (k$)','Spending Score (1-100)']], method = 'ward'))\n",
    "plt.title('Dendrogam', fontsize = 20)\n",
    "plt.xlabel('Clientes')\n",
    "plt.ylabel('Distância Euclidiana')\n",
    "plt.show()"
   ]
  },
  {
   "cell_type": "markdown",
   "metadata": {},
   "source": [
    "### 4 - Avaliando o Desempenho dos Algoritmos\n",
    "\n",
    "(a) Usando o **Adjusted Rand Index**"
   ]
  },
  {
   "cell_type": "markdown",
   "metadata": {},
   "source": [
    "Comparação entre K-Means e Agrupamento Hierarquico:"
   ]
  },
  {
   "cell_type": "code",
   "execution_count": null,
   "metadata": {},
   "outputs": [],
   "source": [
    "adjusted_rand_score(kmeans_labels,hierarquico_labels)"
   ]
  },
  {
   "cell_type": "markdown",
   "metadata": {},
   "source": [
    "Comparação entre K-Means e DBSCAN:"
   ]
  },
  {
   "cell_type": "code",
   "execution_count": null,
   "metadata": {},
   "outputs": [],
   "source": [
    "adjusted_rand_score(kmeans_labels,dbscan_labels)"
   ]
  },
  {
   "cell_type": "markdown",
   "metadata": {},
   "source": [
    "Comparação entre Agrupamento Hierarquico e o DBSCAN:"
   ]
  },
  {
   "cell_type": "code",
   "execution_count": null,
   "metadata": {},
   "outputs": [],
   "source": [
    "adjusted_rand_score(hierarquico_labels,dbscan_labels)"
   ]
  },
  {
   "cell_type": "markdown",
   "metadata": {},
   "source": [
    "Percebemos que o KMeans e o Agrupamento hierarquico para esse caso conseguiram resultados mais próximos um do outro do que quando comparados com o DBSCAN"
   ]
  },
  {
   "cell_type": "markdown",
   "metadata": {},
   "source": [
    "(b) Avaliando a métrica de **Silhouette**"
   ]
  },
  {
   "cell_type": "markdown",
   "metadata": {},
   "source": [
    "KMEANS:"
   ]
  },
  {
   "cell_type": "code",
   "execution_count": null,
   "metadata": {},
   "outputs": [],
   "source": [
    "silhouette_score(dados[['Annual Income (k$)','Spending Score (1-100)']],kmeans_labels)"
   ]
  },
  {
   "cell_type": "markdown",
   "metadata": {},
   "source": [
    "DBSCAN:"
   ]
  },
  {
   "cell_type": "code",
   "execution_count": null,
   "metadata": {},
   "outputs": [],
   "source": [
    "silhouette_score(dados[['Annual Income (k$)','Spending Score (1-100)']],dbscan_labels)"
   ]
  },
  {
   "cell_type": "markdown",
   "metadata": {},
   "source": [
    "Agrupamento Hierarquico:"
   ]
  },
  {
   "cell_type": "code",
   "execution_count": null,
   "metadata": {},
   "outputs": [],
   "source": [
    "silhouette_score(dados[['Annual Income (k$)','Spending Score (1-100)']],hierarquico_labels)"
   ]
  },
  {
   "cell_type": "markdown",
   "metadata": {},
   "source": [
    "---------------------------\n",
    "## Exemplo 3 - Segmentação de Imagens de Câncer de Mama\n",
    "\n",
    "Vamos usar o dataset mini-MIAS disponível em http://peipa.essex.ac.uk/info/mias.html.\n",
    "\n",
    "Este dataset possui 322 imagens de mamografias.\n",
    "\n",
    "A **Segmentação de Imagem** envolve em colorir de uma mesma cor objetos ou partes de interesse. No caso do nosso dataset, iremos usar a segmentação de imagem para reduzir a resolução, aumentando o contraste entre diferentes regiões dos tecidos representados na imagem de mamografia.\n",
    "\n",
    "O dataset é mais detalhado, possuindo inclusive tipos de câncer e anormalidades que ocorrem em cada uma das imagens.\n",
    "\n",
    "Vamos apenas aplicar o K-Means em algumas imagens para observar o resultado:"
   ]
  },
  {
   "cell_type": "code",
   "execution_count": null,
   "metadata": {},
   "outputs": [],
   "source": [
    "# Para processar arquivos e imagens\n",
    "from PIL import Image\n",
    "import glob\n",
    "import numpy as np\n",
    "\n",
    "# Para plotar imagens\n",
    "import matplotlib.pyplot as plt \n",
    "import matplotlib.image as mpimg\n",
    "\n",
    "from sklearn.cluster import KMeans # Agrupamento "
   ]
  },
  {
   "cell_type": "code",
   "execution_count": null,
   "metadata": {},
   "outputs": [],
   "source": [
    "# Carregando as imagens\n",
    "\n",
    "img_G = mpimg.imread('mias/mdb001.pgm') # Tipo G\n",
    "img_D = mpimg.imread('mias/mdb003.pgm') # Tipo D\n",
    "img_F = mpimg.imread('mias/mdb005.pgm') # Tipo F"
   ]
  },
  {
   "cell_type": "code",
   "execution_count": null,
   "metadata": {},
   "outputs": [],
   "source": [
    "# Plotando as imagens\n",
    "\n",
    "fig, axs = plt.subplots(1, 3, figsize=(10, 3))\n",
    "im1 = axs[0].imshow(img_G, cmap='gray', vmin=0, vmax=255)\n",
    "im2 = axs[1].imshow(img_D, cmap='gray', vmin=0, vmax=255)\n",
    "im3 = axs[2].imshow(img_F, cmap='gray', vmin=0, vmax=255)\n",
    "plt.show()"
   ]
  },
  {
   "cell_type": "code",
   "execution_count": null,
   "metadata": {},
   "outputs": [],
   "source": [
    "# Essa função usa o Kmeans como um filtro de segmentação de imagem\n",
    "\n",
    "def filtro_kmeans(img, clusters):\n",
    "    vectorized = img.reshape((-1,1))\n",
    "    kmeans = KMeans(n_clusters=clusters, random_state = 0, n_init=5)\n",
    "    kmeans.fit(vectorized)\n",
    "    \n",
    "    centers = np.uint8(kmeans.cluster_centers_)\n",
    "    segmented_data = centers[kmeans.labels_.flatten()]\n",
    "    \n",
    "    segmented_image = segmented_data.reshape((img.shape))\n",
    "    return(segmented_image)"
   ]
  },
  {
   "cell_type": "code",
   "execution_count": null,
   "metadata": {},
   "outputs": [],
   "source": [
    "clusters = 3\n",
    "\n",
    "img_G_segmentada = filtro_kmeans(img_G, clusters) # Tipo G\n",
    "img_D_segmentada = filtro_kmeans(img_D, clusters) # Tipo D\n",
    "img_F_segmentada = filtro_kmeans(img_F, clusters) # Tipo F"
   ]
  },
  {
   "cell_type": "code",
   "execution_count": null,
   "metadata": {},
   "outputs": [],
   "source": [
    "fig, axs = plt.subplots(1, 3, figsize=(10, 3))\n",
    "im1 = axs[0].imshow(img_G_segmentada, cmap='gray', vmin=0, vmax=255)\n",
    "im2 = axs[1].imshow(img_D_segmentada, cmap='gray', vmin=0, vmax=255)\n",
    "im3 = axs[2].imshow(img_F_segmentada, cmap='gray', vmin=0, vmax=255)\n",
    "plt.show()"
   ]
  },
  {
   "cell_type": "markdown",
   "metadata": {},
   "source": [
    "Para mais informações de aplicação de técnicas de Agrupamento na segmentação de imagens, https://experiencor.github.io/segmentation.html"
   ]
  },
  {
   "cell_type": "markdown",
   "metadata": {},
   "source": [
    "----------------------------------------\n",
    "# Regras de Associação\n",
    "\n",
    "Regras de Associação é um conjunto de técnicas de Aprendizado de Máquina Baseado em Regras (Rule-based machine learning - RBML) que pode ser usado para extraír regras lógicas de conjuntos de palavras (strings).\n",
    "\n",
    "Esse método não está presente na biblioteca Scikit-Learn, por isso vamos usar o Apyori https://github.com/ymoch/apyori\n",
    "\n",
    "Vejamos o exemplo a seguir usando dados sobre transações e produtos em compras de supermercado:"
   ]
  },
  {
   "cell_type": "code",
   "execution_count": null,
   "metadata": {},
   "outputs": [],
   "source": [
    "from apyori import apriori,  load_transactions\n",
    "import numpy as np"
   ]
  },
  {
   "cell_type": "code",
   "execution_count": null,
   "metadata": {},
   "outputs": [],
   "source": [
    "with open('store_data.csv') as fi:\n",
    "    transactions = list(load_transactions(fi, delimiter=','))"
   ]
  },
  {
   "cell_type": "markdown",
   "metadata": {},
   "source": [
    "Cada elemento dessa lista tem um conjunto de transações. Por exemplo, a primeira trasação tem os itens:"
   ]
  },
  {
   "cell_type": "code",
   "execution_count": null,
   "metadata": {},
   "outputs": [],
   "source": [
    "transactions[70]"
   ]
  },
  {
   "cell_type": "code",
   "execution_count": null,
   "metadata": {},
   "outputs": [],
   "source": [
    "# Total de transações\n",
    "len(transactions)"
   ]
  },
  {
   "cell_type": "markdown",
   "metadata": {},
   "source": [
    "Podemos calcular o número médio de items por transação, e o seu desvio padrão, através de:"
   ]
  },
  {
   "cell_type": "code",
   "execution_count": null,
   "metadata": {},
   "outputs": [],
   "source": [
    "n_items = [len(t) for t in transactions] \n",
    "print(np.mean(n_items))\n",
    "print(np.std(n_items))"
   ]
  },
  {
   "cell_type": "markdown",
   "metadata": {},
   "source": [
    "Vamos procurar por regras que tenham um suporte mínimo de 1% da base, com uma confidência mínima de 35%, pelo menos 2 itens, e que tenha um lift mínimo de 2:"
   ]
  },
  {
   "cell_type": "code",
   "execution_count": null,
   "metadata": {},
   "outputs": [],
   "source": [
    "association_rules = list(apriori(transactions, min_support=0.01, min_confidence=0.35, min_lift=2, min_length=5))"
   ]
  },
  {
   "cell_type": "code",
   "execution_count": null,
   "metadata": {},
   "outputs": [],
   "source": [
    "def print_itemset_rules(frequent_itemset):\n",
    "    # itemset frequente está em frequent_itemset.items\n",
    "    print('itemset: {'+\", \".join(frequent_itemset.items)+'}, support: '+str(frequent_itemset.support))\n",
    "    for i,rule in enumerate(frequent_itemset.ordered_statistics):\n",
    "        antecedent = ', '.join(rule.items_base)\n",
    "        consequent = ', '.join(rule.items_add)\n",
    "        print('\\tR'+str(i+1)+': '+antecedent+' => '+consequent+', confidence: '+str(rule.confidence))"
   ]
  },
  {
   "cell_type": "code",
   "execution_count": null,
   "metadata": {},
   "outputs": [],
   "source": [
    "for frequent_itemset in association_rules:\n",
    "    print_itemset_rules(frequent_itemset)\n",
    "    print()"
   ]
  }
 ],
 "metadata": {
  "kernelspec": {
   "display_name": "Python 3 (ipykernel)",
   "language": "python",
   "name": "python3"
  },
  "language_info": {
   "codemirror_mode": {
    "name": "ipython",
    "version": 3
   },
   "file_extension": ".py",
   "mimetype": "text/x-python",
   "name": "python",
   "nbconvert_exporter": "python",
   "pygments_lexer": "ipython3",
   "version": "3.9.2"
  }
 },
 "nbformat": 4,
 "nbformat_minor": 2
}
